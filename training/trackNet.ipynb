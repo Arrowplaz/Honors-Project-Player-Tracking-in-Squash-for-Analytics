{
 "cells": [
  {
   "cell_type": "markdown",
   "metadata": {},
   "source": [
    "# TrackNet Architecture"
   ]
  },
  {
   "cell_type": "code",
   "execution_count": null,
   "metadata": {},
   "outputs": [],
   "source": [
    "import torch\n",
    "import torch.nn as nn\n",
    "import torch.nn.functional as F\n",
    "\n",
    "class TrackNet(nn.Module):\n",
    "    def __init__(self):\n",
    "        super(TrackNet, self).__init__()\n",
    "        \n",
    "        # Encoder\n",
    "        self.conv1 = nn.Conv2d(9, 64, kernel_size=3, padding=1)  # 3 consecutive frames stacked (3x3 = 9 channels)\n",
    "        self.conv2 = nn.Conv2d(64, 128, kernel_size=3, padding=1)\n",
    "        self.conv3 = nn.Conv2d(128, 256, kernel_size=3, padding=1)\n",
    "        \n",
    "        # Decoder\n",
    "        self.deconv1 = nn.ConvTranspose2d(256, 128, kernel_size=3, padding=1)\n",
    "        self.deconv2 = nn.ConvTranspose2d(128, 64, kernel_size=3, padding=1)\n",
    "        self.deconv3 = nn.ConvTranspose2d(64, 1, kernel_size=3, padding=1)  # Output heatmap\n",
    "        \n",
    "        # Maxpool layer\n",
    "        self.pool = nn.MaxPool2d(2, 2)\n",
    "    \n",
    "    def forward(self, x):\n",
    "        # Encoder path\n",
    "        x = F.relu(self.conv1(x))\n",
    "        x = self.pool(x)\n",
    "        x = F.relu(self.conv2(x))\n",
    "        x = self.pool(x)\n",
    "        x = F.relu(self.conv3(x))\n",
    "        x = self.pool(x)\n",
    "        \n",
    "        # Decoder path\n",
    "        x = F.relu(self.deconv1(x))\n",
    "        x = F.relu(self.deconv2(x))\n",
    "        x = torch.sigmoid(self.deconv3(x))  # Output heatmap between 0 and 1\n",
    "        \n",
    "        return x\n"
   ]
  },
  {
   "cell_type": "markdown",
   "metadata": {},
   "source": [
    "# Data Loaders"
   ]
  },
  {
   "cell_type": "code",
   "execution_count": null,
   "metadata": {},
   "outputs": [],
   "source": [
    "from torchvision import transforms\n",
    "from torch.utils.data import Dataset\n",
    "import cv2\n",
    "import numpy as np\n",
    "\n",
    "class SquashBallDataset(Dataset):\n",
    "    def __init__(self, coco_data, transform=None):\n",
    "        self.data = coco_data  # Load COCO formatted annotations\n",
    "        self.transform = transform\n",
    "    \n",
    "    def __len__(self):\n",
    "        return len(self.data)\n",
    "    \n",
    "    def __getitem__(self, idx):\n",
    "        # Load 3 consecutive frames\n",
    "        img1 = cv2.imread(self.data[idx]['frame_1_path'])\n",
    "        img2 = cv2.imread(self.data[idx]['frame_2_path'])\n",
    "        img3 = cv2.imread(self.data[idx]['frame_3_path'])\n",
    "        \n",
    "        # Stack the frames along the channel dimension\n",
    "        img = np.dstack((img1, img2, img3))\n",
    "        \n",
    "        # Load corresponding heatmap (ball location)\n",
    "        heatmap = self.data[idx]['heatmap']  # Load the heatmap of the ball\n",
    "        \n",
    "        if self.transform:\n",
    "            img = self.transform(img)\n",
    "            heatmap = self.transform(heatmap)\n",
    "        \n",
    "        return img, heatmap\n",
    "\n",
    "# Data transforms\n",
    "transform = transforms.Compose([\n",
    "    transforms.ToTensor(),\n",
    "    transforms.Resize((224, 224)),\n",
    "])\n",
    "\n",
    "\n"
   ]
  },
  {
   "cell_type": "markdown",
   "metadata": {},
   "source": [
    "# Training Loop"
   ]
  },
  {
   "cell_type": "code",
   "execution_count": null,
   "metadata": {},
   "outputs": [],
   "source": [
    "import torch.optim as optim\n",
    "\n",
    "# Initialize model, optimizer, and loss function\n",
    "model = TrackNet()\n",
    "optimizer = optim.Adam(model.parameters(), lr=0.001)\n",
    "\n",
    "# Training loop\n",
    "def train_model(model, data_loader, num_epochs=25):\n",
    "    model.train()\n",
    "    \n",
    "    for epoch in range(num_epochs):\n",
    "        running_loss = 0.0\n",
    "        for imgs, heatmaps in data_loader:\n",
    "            imgs = imgs.float()\n",
    "            heatmaps = heatmaps.float()\n",
    "\n",
    "            # Forward pass\n",
    "            outputs = model(imgs)\n",
    "            loss = criterion(outputs, heatmaps)\n",
    "\n",
    "            # Backward pass and optimization\n",
    "            optimizer.zero_grad()\n",
    "            loss.backward()\n",
    "            optimizer.step()\n",
    "            \n",
    "            running_loss += loss.item()\n",
    "        \n",
    "        print(f'Epoch [{epoch+1}/{num_epochs}], Loss: {running_loss/len(data_loader):.4f}')\n",
    "\n",
    "# Example to train:\n",
    "# train_model(model, data_loader)\n"
   ]
  }
 ],
 "metadata": {
  "kernelspec": {
   "display_name": "Python 3",
   "language": "python",
   "name": "python3"
  },
  "language_info": {
   "name": "python",
   "version": "3.11.7"
  }
 },
 "nbformat": 4,
 "nbformat_minor": 2
}
